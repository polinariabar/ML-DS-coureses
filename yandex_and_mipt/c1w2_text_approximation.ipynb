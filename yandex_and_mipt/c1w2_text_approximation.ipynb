{
 "cells": [
  {
   "cell_type": "markdown",
   "metadata": {},
   "source": [
    "## Задача 1: сравнение предложений\n",
    "Дан набор предложений, скопированных с Википедии. Каждое из них имеет \"кошачью тему\" в одном из трех смыслов:\n",
    " - кошки (животные)\n",
    " - UNIX-утилита cat для вывода содержимого файлов\n",
    " - версии операционной системы OS X, названные в честь семейства кошачьих\n",
    "\n",
    "Ваша задача — найти два предложения, которые ближе всего по смыслу к расположенному в самой первой строке. В качестве меры близости по смыслу мы будем использовать косинусное расстояние."
   ]
  },
  {
   "cell_type": "code",
   "execution_count": 1,
   "metadata": {},
   "outputs": [],
   "source": [
    "import re\n",
    "n = 0\n",
    "all_words_by = {}      # all word by sentences\n",
    "all_words = list()     # all words in one list\n",
    "sentences = {}\n",
    "with open('sentences.txt', 'r') as cat_txt:\n",
    "    for line in cat_txt:\n",
    "        sentences[n] = line\n",
    "        sentence_words = re.split('[^a-z]', line.lower())   # lower case and split by words\n",
    "        sentence_words = list(filter(None, sentence_words)) # deleting empty words\n",
    "        all_words += sentence_words                         # adding words in current sentence to the list of all eords\n",
    "        all_words_by[n] = sentence_words                    # adding words in list of words by sentences\n",
    "        n = n + 1                                           # incrementing n (number of sentence)"
   ]
  },
  {
   "cell_type": "code",
   "execution_count": 2,
   "metadata": {},
   "outputs": [],
   "source": [
    "all_words = list(set(all_words))                            # leave only unique words"
   ]
  },
  {
   "cell_type": "code",
   "execution_count": 3,
   "metadata": {},
   "outputs": [],
   "source": [
    "dict_words = {i: all_words[i] for i in range(0, len(all_words))} # create a dict of all unique words"
   ]
  },
  {
   "cell_type": "code",
   "execution_count": 4,
   "metadata": {},
   "outputs": [],
   "source": [
    "def count_words(word, sentence):                            # function for counting word in a sentence\n",
    "    count = 0\n",
    "    for el in sentence:\n",
    "        if el == word:\n",
    "            count += 1\n",
    "    return count"
   ]
  },
  {
   "cell_type": "code",
   "execution_count": 5,
   "metadata": {},
   "outputs": [],
   "source": [
    "import numpy as np\n",
    "\n",
    "matrix = np.zeros((n, len(dict_words)))                     # creating a zero matrix with size (sentences, all words)\n",
    "for i in range(n):                                          # for every sentence\n",
    "    for j in range(len(dict_words)):                        # for every word in all words\n",
    "        if dict_words[j] in all_words_by[i]:                # if the word is in the sentence, count it and fill the matrix\n",
    "            matrix[i][j] = count_words(dict_words[j], all_words_by[i])"
   ]
  },
  {
   "cell_type": "code",
   "execution_count": 6,
   "metadata": {},
   "outputs": [
    {
     "name": "stdout",
     "output_type": "stream",
     "text": [
      "0.0\n",
      "0.9527544408738466\n",
      "0.8644738145642124\n",
      "0.8951715163278082\n",
      "0.7770887149698589\n",
      "0.9402385695332803\n",
      "0.7327387580875756\n",
      "0.9258750683338899\n",
      "0.8842724875284311\n",
      "0.9055088817476932\n",
      "0.8328165362273942\n",
      "0.8804771390665607\n",
      "0.8396432548525454\n",
      "0.8703592552895671\n",
      "0.8740118423302576\n",
      "0.9442721787424647\n",
      "0.8406361854220809\n",
      "0.956644501523794\n",
      "0.9442721787424647\n",
      "0.8885443574849294\n",
      "0.8427572744917122\n",
      "0.8250364469440588\n"
     ]
    }
   ],
   "source": [
    "import scipy.spatial\n",
    "# counting cosine distance for the first sentence and all others\n",
    "for i in range(n):\n",
    "    print(scipy.spatial.distance.cosine(matrix[0], matrix[i]))"
   ]
  },
  {
   "cell_type": "code",
   "execution_count": 7,
   "metadata": {},
   "outputs": [
    {
     "name": "stdout",
     "output_type": "stream",
     "text": [
      "1-st sentence:\n",
      "In comparison to dogs, cats have not undergone major changes during the domestication process.\n",
      "\n",
      "\n",
      "4-th sentence:\n",
      "In one, people deliberately tamed cats in a process of artificial selection, as they were useful predators of vermin.\n",
      "\n",
      "\n",
      "6-th sentence:\n",
      "Domestic cats are similar in size to the other members of the genus Felis, typically weighing between 4 and 5 kg (8.8 and 11.0 lb).\n",
      "\n",
      "\n"
     ]
    }
   ],
   "source": [
    "# conclusion is that 4-th and 6-th sentences have the smallest cosine distance with the first sentence\n",
    "# lets read them and find out if they are similiar\n",
    "\n",
    "print('1-st sentence:\\n' + sentences[0] + '\\n')\n",
    "print('4-th sentence:\\n' + sentences[4] + '\\n')\n",
    "print('6-th sentence:\\n' + sentences[6] + '\\n')"
   ]
  },
  {
   "cell_type": "code",
   "execution_count": 8,
   "metadata": {},
   "outputs": [],
   "source": [
    "# We can see that these sentences really have similar themathics"
   ]
  },
  {
   "cell_type": "markdown",
   "metadata": {},
   "source": [
    "## Задача 2: аппроксимация функции\n",
    "Рассмотрим сложную математическую функцию на отрезке [1, 15]:\n",
    "\n",
    "f(x) = sin(x / 5) * exp(x / 10) + 5 * exp(-x / 2)\n",
    "\n",
    "Она может описывать, например, зависимость оценок, которые выставляют определенному сорту вина эксперты, в зависимости от возраста этого вина. По сути, задача машинного обучения состоит в том, чтобы приблизить сложную зависимость с помощью функции из определенного семейства. В этом задании мы будем приближать указанную функцию с помощью многочленов."
   ]
  },
  {
   "cell_type": "code",
   "execution_count": 129,
   "metadata": {},
   "outputs": [],
   "source": [
    "import numpy as np\n",
    "import scipy.linalg\n",
    "%matplotlib inline\n",
    "from matplotlib import pylab as plt"
   ]
  },
  {
   "cell_type": "code",
   "execution_count": 130,
   "metadata": {},
   "outputs": [],
   "source": [
    "def f(x):\n",
    "    return (np.sin(x / 5) * np.exp(x / 10) + 5 * np.exp(-x / 2))"
   ]
  },
  {
   "cell_type": "code",
   "execution_count": 131,
   "metadata": {},
   "outputs": [],
   "source": [
    "def polynomial(x, a, n):\n",
    "    ans = 0\n",
    "    for i in range(0, n + 1):\n",
    "        ans += a[i] * (x**i)\n",
    "    return ans"
   ]
  },
  {
   "cell_type": "code",
   "execution_count": 132,
   "metadata": {},
   "outputs": [],
   "source": [
    "def create_coef_matrix(x_values, n):\n",
    "    i = 0\n",
    "    j = 0\n",
    "    x_coef = np.zeros((n + 1, n + 1))\n",
    "    row = np.zeros(n + 1)\n",
    "    for x in x_values:\n",
    "        i = 0\n",
    "        for i in range(0, n + 1):\n",
    "            row[i] = x ** i\n",
    "        x_coef[j] = row\n",
    "        j += 1\n",
    "    return x_coef"
   ]
  },
  {
   "cell_type": "code",
   "execution_count": 133,
   "metadata": {},
   "outputs": [],
   "source": [
    "def plot_graphics(a, n):\n",
    "    x = np.arange(1, 15, 0.1)\n",
    "    plt.plot(x, polynomial(x, a, n))\n",
    "    plt.plot(x, f(x))\n",
    "    plt.show()"
   ]
  },
  {
   "cell_type": "code",
   "execution_count": 134,
   "metadata": {},
   "outputs": [],
   "source": [
    "def create_func_value_vector(x_values, n):\n",
    "    i = 0\n",
    "    b = np.zeros((n + 1, 1))\n",
    "    for x in x_values:\n",
    "        b[i] = f(x)\n",
    "        i += 1\n",
    "    return b"
   ]
  },
  {
   "cell_type": "code",
   "execution_count": 143,
   "metadata": {},
   "outputs": [],
   "source": [
    "def print_results(x_values, b, a, n):\n",
    "    i = 0\n",
    "    for coef in a:\n",
    "        print('coefficient %d = %f'%(i, a[i][0]))\n",
    "        i += 1\n",
    "    i = 0\n",
    "    for x in x_values:\n",
    "        print('if x = %f: f(x) = %f, polynomial(x) = %f'%(x, b[i][0], polynomial(x, a, n)[0]))\n",
    "        i += 1"
   ]
  },
  {
   "cell_type": "code",
   "execution_count": 144,
   "metadata": {},
   "outputs": [],
   "source": [
    "def do_approx(x_values, n):\n",
    "    x_coef = create_coef_matrix(x_values, n)\n",
    "    b = create_func_value_vector(x_values, n)\n",
    "    a = scipy.linalg.solve(x_coef, b)\n",
    "    print_results(x_values, b, a, n)\n",
    "    plot_graphics(a, n)"
   ]
  },
  {
   "cell_type": "code",
   "execution_count": 145,
   "metadata": {},
   "outputs": [
    {
     "name": "stdout",
     "output_type": "stream",
     "text": [
      "coefficient 0 = 3.439145\n",
      "coefficient 1 = -0.186928\n",
      "if x = 1.000000: f(x) = 3.252217, polynomial(x) = 3.252217\n",
      "if x = 15.000000: f(x) = 0.635221, polynomial(x) = 0.635221\n"
     ]
    },
    {
     "data": {
      "image/png": "[encoded data removed]",
      "text/plain": [
       "<Figure size 432x288 with 1 Axes>"
      ]
     },
     "metadata": {
      "needs_background": "light"
     },
     "output_type": "display_data"
    }
   ],
   "source": [
    "# Ax = b \n",
    "# we are trying to find out A matrix\n",
    "# a0 * x^0 + a1 * x^1 = f(x)\n",
    "# so:\n",
    "#    a0 * 1 + a1 * 1 = f(1)\n",
    "#    a0 * 1 + a1 * 15 = f(15)\n",
    "# this is SLAU for coefficients\n",
    "\n",
    "do_approx([1., 15.], 1)"
   ]
  },
  {
   "cell_type": "code",
   "execution_count": 146,
   "metadata": {},
   "outputs": [
    {
     "name": "stdout",
     "output_type": "stream",
     "text": [
      "coefficient 0 = 3.325129\n",
      "coefficient 1 = -0.065312\n",
      "coefficient 2 = -0.007601\n",
      "if x = 1.000000: f(x) = 3.252217, polynomial(x) = 3.252217\n",
      "if x = 8.000000: f(x) = 2.316170, polynomial(x) = 2.316170\n",
      "if x = 15.000000: f(x) = 0.635221, polynomial(x) = 0.635221\n"
     ]
    },
    {
     "data": {
      "image/png": "[encoded data removed]",
      "text/plain": [
       "<Figure size 432x288 with 1 Axes>"
      ]
     },
     "metadata": {
      "needs_background": "light"
     },
     "output_type": "display_data"
    }
   ],
   "source": [
    "# a0 * x^0 + a1 * x^1 + a2 * x^2 = f(x)\n",
    "#\n",
    "# a0 * 1 + a1 * 1 + a2 * 1 = f(1)\n",
    "# a0 * 1 + a1 * 8 + a2 * 64 = f(8)\n",
    "# a0 * 1 + a1 * 15 + a2 * 225 = f(15)\n",
    "\n",
    "do_approx([1., 8., 15.], 2)"
   ]
  },
  {
   "cell_type": "code",
   "execution_count": 147,
   "metadata": {},
   "outputs": [
    {
     "name": "stdout",
     "output_type": "stream",
     "text": [
      "coefficient 0 = 4.362642\n",
      "coefficient 1 = -1.295526\n",
      "coefficient 2 = 0.193337\n",
      "coefficient 3 = -0.008236\n",
      "if x = 1.000000: f(x) = 3.252217, polynomial(x) = 3.252217\n",
      "if x = 4.000000: f(x) = 1.746846, polynomial(x) = 1.746846\n",
      "if x = 10.000000: f(x) = 2.505416, polynomial(x) = 2.505416\n",
      "if x = 15.000000: f(x) = 0.635221, polynomial(x) = 0.635221\n"
     ]
    },
    {
     "data": {
      "image/png": "[encoded data removed]",
      "text/plain": [
       "<Figure size 432x288 with 1 Axes>"
      ]
     },
     "metadata": {
      "needs_background": "light"
     },
     "output_type": "display_data"
    }
   ],
   "source": [
    "do_approx([1., 4., 10., 15.], 3)"
   ]
  },
  {
   "cell_type": "code",
   "execution_count": null,
   "metadata": {},
   "outputs": [],
   "source": []
  }
 ],
 "metadata": {
  "kernelspec": {
   "display_name": "Python 3",
   "language": "python",
   "name": "python3"
  },
  "language_info": {
   "codemirror_mode": {
    "name": "ipython",
    "version": 3
   },
   "file_extension": ".py",
   "mimetype": "text/x-python",
   "name": "python",
   "nbconvert_exporter": "python",
   "pygments_lexer": "ipython3",
   "version": "3.8.5"
  }
 },
 "nbformat": 4,
 "nbformat_minor": 4
}
